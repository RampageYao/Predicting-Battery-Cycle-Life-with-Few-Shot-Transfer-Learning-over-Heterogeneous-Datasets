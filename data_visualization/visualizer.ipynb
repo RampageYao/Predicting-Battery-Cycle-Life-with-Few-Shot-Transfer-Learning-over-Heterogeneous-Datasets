{
 "cells": [
  {
   "cell_type": "code",
   "execution_count": 1,
   "metadata": {},
   "outputs": [
    {
     "name": "stderr",
     "output_type": "stream",
     "text": [
      "c:\\Users\\runyao.yu\\Anaconda3\\lib\\site-packages\\scipy\\__init__.py:155: UserWarning: A NumPy version >=1.18.5 and <1.25.0 is required for this version of SciPy (detected version 1.25.2\n",
      "  warnings.warn(f\"A NumPy version >={np_minversion} and <{np_maxversion}\"\n"
     ]
    }
   ],
   "source": [
    "import warnings\n",
    "import matplotlib.pyplot as plt\n",
    "import warnings\n",
    "warnings.filterwarnings(\"ignore\")"
   ]
  },
  {
   "cell_type": "markdown",
   "metadata": {},
   "source": [
    "# histgram"
   ]
  },
  {
   "cell_type": "code",
   "execution_count": 7,
   "metadata": {},
   "outputs": [],
   "source": [
    "plt.figure(figsize=(4.5, 1.5))\n",
    "plt.rcParams['font.family'] = 'Times New Roman'\n",
    "plt.rcParams['font.size'] = 12\n",
    "ax = plt.gca()\n",
    "plt.tick_params(axis='both', direction='in')\n",
    "\n",
    "plt.hist(..., bins=..., edgecolor= 'black', color='#EAE3CB', label='Train')\n",
    "plt.hist(..., bins=..., edgecolor= 'black', color='#FA6106', label='Test')\n",
    "\n",
    "plt.xlim(..., ...)\n",
    "plt.ylim(..., ...)\n",
    "ax.set_xticks(...)\n",
    "ax.set_yticks(...)\n",
    "ax.set_xticklabels(...)\n",
    "ax.set_yticklabels(...)\n",
    "plt.xlabel('Cycle life')\n",
    "plt.ylabel('Frequency')\n",
    "plt.grid('#EEEEEE', linestyle='--')\n",
    "#plt.legend()\n",
    "plt.savefig('visualization/distribution.png', dpi=500, bbox_inches='tight', edgecolor='none', transparent=True)\n",
    "plt.show()"
   ]
  },
  {
   "cell_type": "markdown",
   "metadata": {},
   "source": [
    "# Scatter"
   ]
  },
  {
   "cell_type": "code",
   "execution_count": null,
   "metadata": {},
   "outputs": [],
   "source": [
    "plt.figure(figsize=(2.3,2.3))\n",
    "plt.rcParams['font.family'] = 'Times New Roman'\n",
    "plt.rcParams['font.size'] = 12\n",
    "ax = plt.gca()\n",
    "plt.tick_params(axis='both', direction='in')\n",
    "plt.xlabel('Observed cycle life')\n",
    "plt.ylabel('Predicted cycle life')\n",
    "\n",
    "min_axis, max_axis = 0, 3000\n",
    "x_ticks = x_ticks = [0, 1000, 2000, 3000]\n",
    "y_ticks = y_ticks = [1000, 2000, 3000]\n",
    "plt.plot([min_axis, max_axis], [min_axis, max_axis], '--', color='black', linewidth=0.7) \n",
    "\n",
    "model_loc = \"model1.h5\"\n",
    "test_Y1, y_test_pred1 = ...\n",
    "\n",
    "model_loc = \"model2.h5\"\n",
    "test_Y2, y_test_pred2 = ...\n",
    "\n",
    "model_loc = \"model3.h5\"\n",
    "test_Y3, y_test_pred3 = ...\n",
    "\n",
    "plt.scatter(test_Y2, y_test_pred2, color='#01AEF0', s=20, marker='o', edgecolors=\"black\", linewidths=0.7)\n",
    "plt.scatter(test_Y3, y_test_pred3, color='#EAE3CB', s=18, marker='s', edgecolors=\"black\", linewidths=0.7)\n",
    "plt.scatter(test_Y1, y_test_pred1, color='#F05D06', s=25, marker='^', edgecolors=\"black\", linewidths=0.7)\n",
    "\n",
    "plt.ylim(min_axis, max_axis)\n",
    "plt.xlim(min_axis, max_axis)\n",
    "\n",
    "ax.set_xticks(x_ticks)\n",
    "ax.set_yticks(y_ticks)\n",
    "ax.set_xticklabels(x_ticks)\n",
    "ax.set_yticklabels(y_ticks)\n",
    "\n",
    "plt.savefig('visualization/inference.png', dpi=500, bbox_inches='tight', edgecolor='none', transparent=True)"
   ]
  }
 ],
 "metadata": {
  "kernelspec": {
   "display_name": "base",
   "language": "python",
   "name": "python3"
  },
  "language_info": {
   "codemirror_mode": {
    "name": "ipython",
    "version": 3
   },
   "file_extension": ".py",
   "mimetype": "text/x-python",
   "name": "python",
   "nbconvert_exporter": "python",
   "pygments_lexer": "ipython3",
   "version": "3.9.13"
  }
 },
 "nbformat": 4,
 "nbformat_minor": 2
}
