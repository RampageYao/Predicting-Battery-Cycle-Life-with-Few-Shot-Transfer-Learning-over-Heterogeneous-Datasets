{
  "cells": [
    {
      "cell_type": "code",
      "execution_count": 23,
      "metadata": {
        "id": "omIXBqvhLKH9"
      },
      "outputs": [],
      "source": [
        "import pickle as pkl\n",
        "import torch\n",
        "import numpy as np\n",
        "import os\n",
        "import pandas as pd\n",
        "import pickle as pkl\n",
        "import warnings\n",
        "# Suppress all warnings\n",
        "warnings.filterwarnings('ignore')\n",
        "\n",
        "os.environ[\"KMP_DUPLICATE_LIB_OK\"]=\"TRUE\""
      ]
    },
    {
      "cell_type": "code",
      "execution_count": 24,
      "metadata": {
        "colab": {
          "base_uri": "https://localhost:8080/"
        },
        "id": "hMLkA2AyLKH-",
        "outputId": "0cafb617-5523-480c-88a1-5b2376533139"
      },
      "outputs": [
        {
          "name": "stdout",
          "output_type": "stream",
          "text": [
            "{'MIX': 'MIX', 'HUST': 'HUST', 'MATR': 'MATR'}\n"
          ]
        }
      ],
      "source": [
        "with open(\"all_vcm_nodiff_403.pkl\",\"rb\") as f:\n",
        "    battery_data = pkl.load(f)\n",
        "\n",
        "def extract_tensor_value(cell):\n",
        "    return cell[0][0].item()\n",
        "battery_data['label'] = battery_data['label'].apply(extract_tensor_value)\n",
        "\n",
        "dataset_id_map = {}\n",
        "for dataset_id in battery_data[\"dataset_id\"].unique():\n",
        "    # print(dataset_id)\n",
        "    if 'HUST' in dataset_id:\n",
        "        dataset_id_map[dataset_id] = 'HUST'\n",
        "    elif 'MATR' in dataset_id:\n",
        "        dataset_id_map[dataset_id] = 'MATR'\n",
        "    else:\n",
        "        dataset_id_map[dataset_id] = 'MIX'\n",
        "print(dataset_id_map)\n",
        "battery_data[\"dataset_id_new\"] = battery_data[\"dataset_id\"].map(dataset_id_map)"
      ]
    },
    {
      "cell_type": "code",
      "execution_count": 25,
      "metadata": {
        "colab": {
          "base_uri": "https://localhost:8080/"
        },
        "id": "c5wVkcgbLKH_",
        "outputId": "7c6d0fee-f629-4979-cce5-e57865eb73f6"
      },
      "outputs": [
        {
          "name": "stdout",
          "output_type": "stream",
          "text": [
            "MATR: #train=41, #val=45, #test1=43, #test2=40\n",
            "HUST: #train=55, #val=0, #test=22\n",
            "MIX: #train=116, #val=0, #test=30\n"
          ]
        }
      ],
      "source": [
        "len_MATR_train = len(battery_data[(battery_data[\"dataset_id_new\"] == \"MATR\") & (battery_data[\"split\"] == \"train\")])\n",
        "len_MATR_val = len(battery_data[(battery_data[\"dataset_id_new\"] == \"MATR\") & (battery_data[\"split\"] == \"valid\")])\n",
        "len_MATR_test1 = len(battery_data[(battery_data[\"dataset_id_new\"] == \"MATR\") & (battery_data[\"split\"] == \"test1\")])\n",
        "len_MATR_test2 = len(battery_data[(battery_data[\"dataset_id_new\"] == \"MATR\") & (battery_data[\"split\"] == \"test2\")])\n",
        "\n",
        "len_HUST_train = len(battery_data[(battery_data[\"dataset_id_new\"] == \"HUST\") & (battery_data[\"split\"] == \"train\")])\n",
        "len_HUST_val = len(battery_data[(battery_data[\"dataset_id_new\"] == \"HUST\") & (battery_data[\"split\"] == \"valid\")])\n",
        "len_HUST_test = len(battery_data[(battery_data[\"dataset_id_new\"] == \"HUST\") & (battery_data[\"split\"] == \"test\")])\n",
        "\n",
        "len_MIX_train = len(battery_data[(battery_data[\"dataset_id_new\"] == \"MIX\") & (battery_data[\"split\"] == \"train\")])\n",
        "len_MIX_val = len(battery_data[(battery_data[\"dataset_id_new\"] == \"MIX\") & (battery_data[\"split\"] == \"valid\")])\n",
        "len_MIX_test = len(battery_data[(battery_data[\"dataset_id_new\"] == \"MIX\") & (battery_data[\"split\"] == \"test\")])\n",
        "\n",
        "print(\"MATR: #train={}, #val={}, #test1={}, #test2={}\".format(len_MATR_train, len_MATR_val, len_MATR_test1, len_MATR_test2))\n",
        "print(\"HUST: #train={}, #val={}, #test={}\".format(len_HUST_train, len_HUST_val, len_HUST_test))\n",
        "print(\"MIX: #train={}, #val={}, #test={}\".format(len_MIX_train, len_MIX_val, len_MIX_test))"
      ]
    },
    {
      "cell_type": "code",
      "execution_count": 26,
      "metadata": {},
      "outputs": [
        {
          "data": {
            "text/html": [
              "<div>\n",
              "<style scoped>\n",
              "    .dataframe tbody tr th:only-of-type {\n",
              "        vertical-align: middle;\n",
              "    }\n",
              "\n",
              "    .dataframe tbody tr th {\n",
              "        vertical-align: top;\n",
              "    }\n",
              "\n",
              "    .dataframe thead th {\n",
              "        text-align: right;\n",
              "    }\n",
              "</style>\n",
              "<table border=\"1\" class=\"dataframe\">\n",
              "  <thead>\n",
              "    <tr style=\"text-align: right;\">\n",
              "      <th></th>\n",
              "      <th>dataset_id</th>\n",
              "      <th>chemistry</th>\n",
              "      <th>cell_id</th>\n",
              "      <th>cycle_numbers</th>\n",
              "      <th>label</th>\n",
              "      <th>feature</th>\n",
              "      <th>split</th>\n",
              "      <th>dataset_id_new</th>\n",
              "    </tr>\n",
              "  </thead>\n",
              "  <tbody>\n",
              "    <tr>\n",
              "      <th>0</th>\n",
              "      <td>MIX</td>\n",
              "      <td>LCO</td>\n",
              "      <td>CALCE_CS2_33</td>\n",
              "      <td>[6, 7, 8, 9, 10, 11, 12, 13, 14, 15, 16, 17, 1...</td>\n",
              "      <td>474.0</td>\n",
              "      <td>[[tensor(0., dtype=torch.float64), tensor(0., ...</td>\n",
              "      <td>train</td>\n",
              "      <td>MIX</td>\n",
              "    </tr>\n",
              "    <tr>\n",
              "      <th>1</th>\n",
              "      <td>MIX</td>\n",
              "      <td>LCO</td>\n",
              "      <td>CALCE_CS2_34</td>\n",
              "      <td>[6, 7, 8, 9, 10, 11, 12, 13, 14, 15, 17, 18, 1...</td>\n",
              "      <td>449.0</td>\n",
              "      <td>[[tensor(0., dtype=torch.float64), tensor(0., ...</td>\n",
              "      <td>train</td>\n",
              "      <td>MIX</td>\n",
              "    </tr>\n",
              "    <tr>\n",
              "      <th>2</th>\n",
              "      <td>MIX</td>\n",
              "      <td>LCO</td>\n",
              "      <td>CALCE_CS2_35</td>\n",
              "      <td>[7, 8, 9, 10, 11, 12, 13, 14, 15, 16, 17, 18, ...</td>\n",
              "      <td>519.0</td>\n",
              "      <td>[[tensor(0., dtype=torch.float64), tensor(0., ...</td>\n",
              "      <td>test</td>\n",
              "      <td>MIX</td>\n",
              "    </tr>\n",
              "  </tbody>\n",
              "</table>\n",
              "</div>"
            ],
            "text/plain": [
              "  dataset_id chemistry       cell_id  \\\n",
              "0        MIX       LCO  CALCE_CS2_33   \n",
              "1        MIX       LCO  CALCE_CS2_34   \n",
              "2        MIX       LCO  CALCE_CS2_35   \n",
              "\n",
              "                                       cycle_numbers  label  \\\n",
              "0  [6, 7, 8, 9, 10, 11, 12, 13, 14, 15, 16, 17, 1...  474.0   \n",
              "1  [6, 7, 8, 9, 10, 11, 12, 13, 14, 15, 17, 18, 1...  449.0   \n",
              "2  [7, 8, 9, 10, 11, 12, 13, 14, 15, 16, 17, 18, ...  519.0   \n",
              "\n",
              "                                             feature  split dataset_id_new  \n",
              "0  [[tensor(0., dtype=torch.float64), tensor(0., ...  train            MIX  \n",
              "1  [[tensor(0., dtype=torch.float64), tensor(0., ...  train            MIX  \n",
              "2  [[tensor(0., dtype=torch.float64), tensor(0., ...   test            MIX  "
            ]
          },
          "execution_count": 26,
          "metadata": {},
          "output_type": "execute_result"
        }
      ],
      "source": [
        "battery_data.head(3)"
      ]
    },
    {
      "cell_type": "code",
      "execution_count": 27,
      "metadata": {
        "id": "A8SwjLy2LKH_"
      },
      "outputs": [],
      "source": [
        "task_names = ['HUST' 'MATR' 'MIX']\n",
        "\n",
        "def get_x_data(df, col = \"feature\", cycle_pairs=[[(98, 8)]]):\n",
        "    x = []\n",
        "    for i in range(len(df)):\n",
        "        x_i = df[col].iloc[i]\n",
        "        # Initialize an empty list to hold feature vectors for the current sample\n",
        "        feature_vectors = []\n",
        "        # Loop through each pair of cycles and calculate the difference\n",
        "        for start, end in cycle_pairs:\n",
        "            diff = x_i[start, :] - x_i[end, :]\n",
        "            feature_vectors.append(torch.tensor(diff).reshape(-1))\n",
        "        # Concatenate all feature vectors to form a single feature vector\n",
        "        x_i_features = torch.cat(feature_vectors)\n",
        "        x.append(x_i_features)\n",
        "    x = torch.stack(x)\n",
        "    return x\n",
        "\n",
        "def create_y(df, col = \"label\"):\n",
        "    y = df[col]\n",
        "    # convert all y from tensor to float\n",
        "    # y = y.apply(lambda x: x.item())\n",
        "\n",
        "    y = torch.tensor(y.reset_index(drop=True)).float()\n",
        "    # convert to N by 1\n",
        "    y = y.view(-1,1)\n",
        "    return y"
      ]
    },
    {
      "cell_type": "code",
      "execution_count": 28,
      "metadata": {
        "id": "-lkKKCnxLKIA"
      },
      "outputs": [],
      "source": [
        "def get_dataset_for_task(task_name, battery_data = battery_data,  phase = \"train\", if_scale = False, dataset_id = \"dataset_id_new\", cycle_pairs=[(98, 8)]):\n",
        "    dataset = battery_data[battery_data[dataset_id] == task_name]\n",
        "    if phase == \"train\":\n",
        "        if task_name == \"MATR\":\n",
        "            dataset = dataset[\n",
        "                                (dataset[\"split\"] == \"train\")\n",
        "                                # | (dataset[\"split\"] == \"valid\")\n",
        "                                # | (dataset[\"split\"] == \"test1\")\n",
        "                            ]\n",
        "\n",
        "        # return dataset\n",
        "        x = get_x_data(dataset, cycle_pairs=cycle_pairs)\n",
        "        # print(dataset)\n",
        "        y = create_y(dataset)\n",
        "\n",
        "        return x, y\n",
        "\n",
        "    if phase == \"fine_tune\":\n",
        "\n",
        "        if task_name == \"MATR\":\n",
        "            dataset_train = dataset[\n",
        "                                (dataset[\"split\"] == \"train\")\n",
        "                            ]\n",
        "            dataset_test = dataset[\n",
        "                                (dataset[\"split\"] == \"test1\")\n",
        "                            ]\n",
        "        if task_name == \"HUST\":\n",
        "            dataset_train = dataset[\n",
        "                                (dataset[\"split\"] == \"train\")\n",
        "                            ]\n",
        "            dataset_test = dataset[\n",
        "                                (dataset[\"split\"] == \"test\")\n",
        "                            ]\n",
        "        if task_name == \"MIX\":\n",
        "            dataset_train = dataset[\n",
        "                                (dataset[\"split\"] == \"train\")\n",
        "                            ]\n",
        "            dataset_test = dataset[\n",
        "                                (dataset[\"split\"] == \"test\")\n",
        "                            ]\n",
        "        train_x = get_x_data(dataset_train, cycle_pairs=cycle_pairs)\n",
        "        train_y = create_y(dataset_train)\n",
        "\n",
        "        if dataset_test is not None:\n",
        "            test_x = get_x_data(dataset_test, cycle_pairs=cycle_pairs)\n",
        "            test_y = create_y(dataset_test)\n",
        "        else:\n",
        "            test_x = None\n",
        "            test_y = None\n",
        "        return train_x, train_y, test_x, test_y\n",
        "    \n",
        "def split_train_test(initial_cycles, dataset_id):\n",
        "    # Initialize empty DataFrames for concatenation\n",
        "    df_train_x = pd.DataFrame()\n",
        "    df_train_y = pd.DataFrame()\n",
        "    df_test_x = pd.DataFrame()\n",
        "    df_test_y = pd.DataFrame()\n",
        "\n",
        "    # Loop through cycle pairs with second element increasing by 10 starting from 8\n",
        "    for i in initial_cycles:  # here only perform 98-8. If define [8, 18, 28, ...] then perform 98-8, 98-18, 98-28, ..., then concat\n",
        "        cycle_pairs = [(98, i)]\n",
        "        train_x, train_y, test_x, test_y = get_dataset_for_task(dataset_id, phase=\"fine_tune\", cycle_pairs=cycle_pairs)\n",
        "        column_names = [f'F_99_{i}_{j}' for j in range(1000)]\n",
        "\n",
        "        # Convert numpy arrays to pandas DataFrames\n",
        "        temp_df_train_x = pd.DataFrame(train_x.numpy(), columns=column_names)\n",
        "        temp_df_train_y = pd.DataFrame(train_y.numpy())\n",
        "        temp_df_test_x = pd.DataFrame(test_x.numpy(), columns=column_names)\n",
        "        temp_df_test_y = pd.DataFrame(test_y.numpy())\n",
        "\n",
        "        # Concatenate the DataFrames vertically\n",
        "        df_train_x = pd.concat([df_train_x, temp_df_train_x], axis=1)\n",
        "        df_train_y = temp_df_train_y\n",
        "        df_test_x = pd.concat([df_test_x, temp_df_test_x], axis=1)\n",
        "        df_test_y = temp_df_test_y\n",
        "\n",
        "        # Now df_train_x, df_train_y, df_test_x, and df_test_y are the concatenated DataFrames\n",
        "        print(\"dataset:\", dataset_id)\n",
        "        print(\"\\t train X shape:\", df_train_x.shape, \"train Y shape:\", df_train_y.shape)\n",
        "        print(\"\\t test X shape:\", df_test_x.shape, \"test Y shape:\", df_test_y.shape)\n",
        "\n",
        "    df_train_y.rename(columns={0: 'EoL'}, inplace=True)\n",
        "    df_test_y.rename(columns={0: 'EoL'}, inplace=True)\n",
        "    return df_train_x, df_train_y, df_test_x, df_test_y"
      ]
    },
    {
      "cell_type": "code",
      "execution_count": 29,
      "metadata": {
        "colab": {
          "base_uri": "https://localhost:8080/"
        },
        "id": "TojgZFcsLKIA",
        "outputId": "3e9b827a-73c7-4e5a-a66f-9db2d46b132a"
      },
      "outputs": [
        {
          "name": "stdout",
          "output_type": "stream",
          "text": [
            "dataset: MATR\n",
            "\t train X shape: (41, 1000) train Y shape: (41, 1)\n",
            "\t test X shape: (43, 1000) test Y shape: (43, 1)\n",
            "dataset: MIX\n",
            "\t train X shape: (116, 1000) train Y shape: (116, 1)\n",
            "\t test X shape: (30, 1000) test Y shape: (30, 1)\n",
            "dataset: HUST\n",
            "\t train X shape: (55, 1000) train Y shape: (55, 1)\n",
            "\t test X shape: (22, 1000) test Y shape: (22, 1)\n"
          ]
        }
      ],
      "source": [
        "initial_cycles = [8]\n",
        "dataset_id = \"MATR\"\n",
        "X_train_MATR, y_train_MATR, X_test_MATR, y_test_MATR = split_train_test(initial_cycles, dataset_id)\n",
        "\n",
        "dataset_id = \"MIX\"\n",
        "X_train_MIX, y_train_MIX, X_test_MIX, y_test_MIX = split_train_test(initial_cycles, dataset_id)\n",
        "\n",
        "dataset_id = \"HUST\"\n",
        "X_train_HUST, y_train_HUST, X_test_HUST, y_test_HUST = split_train_test(initial_cycles, dataset_id)"
      ]
    },
    {
      "cell_type": "code",
      "execution_count": 40,
      "metadata": {},
      "outputs": [
        {
          "data": {
            "text/html": [
              "<div>\n",
              "<style scoped>\n",
              "    .dataframe tbody tr th:only-of-type {\n",
              "        vertical-align: middle;\n",
              "    }\n",
              "\n",
              "    .dataframe tbody tr th {\n",
              "        vertical-align: top;\n",
              "    }\n",
              "\n",
              "    .dataframe thead th {\n",
              "        text-align: right;\n",
              "    }\n",
              "</style>\n",
              "<table border=\"1\" class=\"dataframe\">\n",
              "  <thead>\n",
              "    <tr style=\"text-align: right;\">\n",
              "      <th></th>\n",
              "      <th>F_99_8_0</th>\n",
              "      <th>F_99_8_1</th>\n",
              "      <th>F_99_8_2</th>\n",
              "      <th>F_99_8_3</th>\n",
              "      <th>F_99_8_4</th>\n",
              "      <th>F_99_8_5</th>\n",
              "      <th>F_99_8_6</th>\n",
              "      <th>F_99_8_7</th>\n",
              "      <th>F_99_8_8</th>\n",
              "      <th>F_99_8_9</th>\n",
              "      <th>...</th>\n",
              "      <th>F_99_8_990</th>\n",
              "      <th>F_99_8_991</th>\n",
              "      <th>F_99_8_992</th>\n",
              "      <th>F_99_8_993</th>\n",
              "      <th>F_99_8_994</th>\n",
              "      <th>F_99_8_995</th>\n",
              "      <th>F_99_8_996</th>\n",
              "      <th>F_99_8_997</th>\n",
              "      <th>F_99_8_998</th>\n",
              "      <th>F_99_8_999</th>\n",
              "    </tr>\n",
              "  </thead>\n",
              "  <tbody>\n",
              "    <tr>\n",
              "      <th>0</th>\n",
              "      <td>-1.264699e-06</td>\n",
              "      <td>-1.264699e-06</td>\n",
              "      <td>-1.264699e-06</td>\n",
              "      <td>-0.000015</td>\n",
              "      <td>-0.000028</td>\n",
              "      <td>-6.540445e-05</td>\n",
              "      <td>-0.000103</td>\n",
              "      <td>-0.000140</td>\n",
              "      <td>-0.000178</td>\n",
              "      <td>-0.000215</td>\n",
              "      <td>...</td>\n",
              "      <td>-0.001796</td>\n",
              "      <td>-0.001787</td>\n",
              "      <td>-0.001733</td>\n",
              "      <td>-0.001805</td>\n",
              "      <td>-0.001861</td>\n",
              "      <td>-0.001917</td>\n",
              "      <td>-0.001975</td>\n",
              "      <td>-0.002032</td>\n",
              "      <td>-0.000314</td>\n",
              "      <td>0.001404</td>\n",
              "    </tr>\n",
              "    <tr>\n",
              "      <th>1</th>\n",
              "      <td>3.883124e-07</td>\n",
              "      <td>3.883124e-07</td>\n",
              "      <td>3.883124e-07</td>\n",
              "      <td>0.000007</td>\n",
              "      <td>0.000013</td>\n",
              "      <td>1.239710e-05</td>\n",
              "      <td>0.000011</td>\n",
              "      <td>0.000010</td>\n",
              "      <td>0.000010</td>\n",
              "      <td>0.000009</td>\n",
              "      <td>...</td>\n",
              "      <td>0.001256</td>\n",
              "      <td>0.001256</td>\n",
              "      <td>0.000318</td>\n",
              "      <td>-0.000619</td>\n",
              "      <td>-0.000890</td>\n",
              "      <td>-0.001161</td>\n",
              "      <td>-0.003497</td>\n",
              "      <td>-0.005833</td>\n",
              "      <td>-0.006285</td>\n",
              "      <td>-0.006737</td>\n",
              "    </tr>\n",
              "    <tr>\n",
              "      <th>2</th>\n",
              "      <td>-1.083377e-04</td>\n",
              "      <td>-1.083377e-04</td>\n",
              "      <td>-1.083377e-04</td>\n",
              "      <td>-0.000108</td>\n",
              "      <td>-0.000108</td>\n",
              "      <td>-1.083377e-04</td>\n",
              "      <td>-0.000108</td>\n",
              "      <td>-0.000108</td>\n",
              "      <td>-0.000108</td>\n",
              "      <td>-0.000108</td>\n",
              "      <td>...</td>\n",
              "      <td>-0.004073</td>\n",
              "      <td>-0.002529</td>\n",
              "      <td>-0.002064</td>\n",
              "      <td>-0.001599</td>\n",
              "      <td>0.000023</td>\n",
              "      <td>0.001644</td>\n",
              "      <td>0.001708</td>\n",
              "      <td>0.001771</td>\n",
              "      <td>0.001839</td>\n",
              "      <td>0.002419</td>\n",
              "    </tr>\n",
              "    <tr>\n",
              "      <th>3</th>\n",
              "      <td>-1.805152e-05</td>\n",
              "      <td>-4.090029e-05</td>\n",
              "      <td>-6.374906e-05</td>\n",
              "      <td>-0.000064</td>\n",
              "      <td>-0.000064</td>\n",
              "      <td>-6.454846e-05</td>\n",
              "      <td>-0.000065</td>\n",
              "      <td>-0.000065</td>\n",
              "      <td>-0.000065</td>\n",
              "      <td>-0.000066</td>\n",
              "      <td>...</td>\n",
              "      <td>-0.003629</td>\n",
              "      <td>-0.003632</td>\n",
              "      <td>-0.004635</td>\n",
              "      <td>-0.005639</td>\n",
              "      <td>-0.006663</td>\n",
              "      <td>-0.007688</td>\n",
              "      <td>-0.008262</td>\n",
              "      <td>-0.008837</td>\n",
              "      <td>-0.009877</td>\n",
              "      <td>-0.010917</td>\n",
              "    </tr>\n",
              "    <tr>\n",
              "      <th>4</th>\n",
              "      <td>-1.431201e-05</td>\n",
              "      <td>-1.431201e-05</td>\n",
              "      <td>-1.431201e-05</td>\n",
              "      <td>-0.000014</td>\n",
              "      <td>-0.000014</td>\n",
              "      <td>1.669296e-07</td>\n",
              "      <td>0.000015</td>\n",
              "      <td>0.000056</td>\n",
              "      <td>0.000097</td>\n",
              "      <td>0.000138</td>\n",
              "      <td>...</td>\n",
              "      <td>-0.006731</td>\n",
              "      <td>-0.006635</td>\n",
              "      <td>-0.006613</td>\n",
              "      <td>-0.006591</td>\n",
              "      <td>-0.006591</td>\n",
              "      <td>-0.006591</td>\n",
              "      <td>-0.006591</td>\n",
              "      <td>-0.006591</td>\n",
              "      <td>-0.006591</td>\n",
              "      <td>-0.006591</td>\n",
              "    </tr>\n",
              "  </tbody>\n",
              "</table>\n",
              "<p>5 rows × 1000 columns</p>\n",
              "</div>"
            ],
            "text/plain": [
              "       F_99_8_0      F_99_8_1      F_99_8_2  F_99_8_3  F_99_8_4      F_99_8_5  \\\n",
              "0 -1.264699e-06 -1.264699e-06 -1.264699e-06 -0.000015 -0.000028 -6.540445e-05   \n",
              "1  3.883124e-07  3.883124e-07  3.883124e-07  0.000007  0.000013  1.239710e-05   \n",
              "2 -1.083377e-04 -1.083377e-04 -1.083377e-04 -0.000108 -0.000108 -1.083377e-04   \n",
              "3 -1.805152e-05 -4.090029e-05 -6.374906e-05 -0.000064 -0.000064 -6.454846e-05   \n",
              "4 -1.431201e-05 -1.431201e-05 -1.431201e-05 -0.000014 -0.000014  1.669296e-07   \n",
              "\n",
              "   F_99_8_6  F_99_8_7  F_99_8_8  F_99_8_9  ...  F_99_8_990  F_99_8_991  \\\n",
              "0 -0.000103 -0.000140 -0.000178 -0.000215  ...   -0.001796   -0.001787   \n",
              "1  0.000011  0.000010  0.000010  0.000009  ...    0.001256    0.001256   \n",
              "2 -0.000108 -0.000108 -0.000108 -0.000108  ...   -0.004073   -0.002529   \n",
              "3 -0.000065 -0.000065 -0.000065 -0.000066  ...   -0.003629   -0.003632   \n",
              "4  0.000015  0.000056  0.000097  0.000138  ...   -0.006731   -0.006635   \n",
              "\n",
              "   F_99_8_992  F_99_8_993  F_99_8_994  F_99_8_995  F_99_8_996  F_99_8_997  \\\n",
              "0   -0.001733   -0.001805   -0.001861   -0.001917   -0.001975   -0.002032   \n",
              "1    0.000318   -0.000619   -0.000890   -0.001161   -0.003497   -0.005833   \n",
              "2   -0.002064   -0.001599    0.000023    0.001644    0.001708    0.001771   \n",
              "3   -0.004635   -0.005639   -0.006663   -0.007688   -0.008262   -0.008837   \n",
              "4   -0.006613   -0.006591   -0.006591   -0.006591   -0.006591   -0.006591   \n",
              "\n",
              "   F_99_8_998  F_99_8_999  \n",
              "0   -0.000314    0.001404  \n",
              "1   -0.006285   -0.006737  \n",
              "2    0.001839    0.002419  \n",
              "3   -0.009877   -0.010917  \n",
              "4   -0.006591   -0.006591  \n",
              "\n",
              "[5 rows x 1000 columns]"
            ]
          },
          "execution_count": 40,
          "metadata": {},
          "output_type": "execute_result"
        }
      ],
      "source": [
        "X_train_MATR.head()"
      ]
    },
    {
      "cell_type": "markdown",
      "metadata": {
        "id": "kPkQxMDxBfPy"
      },
      "source": [
        "shot train and val for MATR"
      ]
    },
    {
      "cell_type": "code",
      "execution_count": 30,
      "metadata": {
        "id": "yRcoYdPFLKIA"
      },
      "outputs": [],
      "source": [
        "# 5 shot\n",
        "five_shot_train_index_MATR = [9, 3, 6, 18, 36] \n",
        "five_shot_train_X_MATR = X_train_MATR.iloc[five_shot_train_index_MATR]\n",
        "five_shot_train_Y_MATR = y_train_MATR.iloc[five_shot_train_index_MATR]\n",
        "\n",
        "five_shot_val_index_MATR = [0, 12, 15, 21, 24] \n",
        "five_shot_val_X_MATR = X_train_MATR.iloc[five_shot_val_index_MATR]\n",
        "five_shot_val_Y_MATR = y_train_MATR.iloc[five_shot_val_index_MATR]\n",
        "\n",
        "# 10 shot\n",
        "ten_shot_train_index_MATR =  [2, 3, 6, 14, 36, 9, 12, 15, 21, 24] \n",
        "ten_shot_train_X_MATR = X_train_MATR.iloc[ten_shot_train_index_MATR]\n",
        "ten_shot_train_Y_MATR = y_train_MATR.iloc[ten_shot_train_index_MATR]\n",
        "\n",
        "ten_shot_val_index_MATR =  [0, 1, 4, 5, 18, 19, 23, 29, 35, 40] \n",
        "ten_shot_val_X_MATR = X_train_MATR.iloc[ten_shot_val_index_MATR]\n",
        "ten_shot_val_Y_MATR = y_train_MATR.iloc[ten_shot_val_index_MATR]"
      ]
    },
    {
      "cell_type": "markdown",
      "metadata": {
        "id": "9oLQ4PxgB8H3"
      },
      "source": [
        "shot train and val for MIX"
      ]
    },
    {
      "cell_type": "code",
      "execution_count": 31,
      "metadata": {
        "id": "zr4yvXWNLKIB"
      },
      "outputs": [],
      "source": [
        "# 5 shot\n",
        "five_shot_train_index_MIX = [0, 10, 60, 63, 65] \n",
        "five_shot_train_X_MIX = X_train_MIX.iloc[five_shot_train_index_MIX]\n",
        "five_shot_train_Y_MIX = y_train_MIX.iloc[five_shot_train_index_MIX]\n",
        "\n",
        "five_shot_val_index_MIX = [70, 80, 81, 90, 95] \n",
        "five_shot_val_X_MIX = X_train_MIX.iloc[five_shot_val_index_MIX]\n",
        "five_shot_val_Y_MIX = y_train_MIX.iloc[five_shot_val_index_MIX]\n",
        "\n",
        "# 10 shot\n",
        "ten_shot_train_index_MIX =  [0,  10, 60, 63, 65, 70, 80, 81, 90, 95] \n",
        "ten_shot_train_X_MIX = X_train_MIX.iloc[ten_shot_train_index_MIX]\n",
        "ten_shot_train_Y_MIX = y_train_MIX.iloc[ten_shot_train_index_MIX]\n",
        "\n",
        "ten_shot_val_index_MIX =  [5, 15, 29, 59, 66, 72, 82, 83, 91, 96] \n",
        "ten_shot_val_X_MIX = X_train_MIX.iloc[ten_shot_val_index_MIX]\n",
        "ten_shot_val_Y_MIX = y_train_MIX.iloc[ten_shot_val_index_MIX]"
      ]
    },
    {
      "cell_type": "markdown",
      "metadata": {
        "id": "9zaNQPsuIKdH"
      },
      "source": [
        "shot train and val for HUST"
      ]
    },
    {
      "cell_type": "code",
      "execution_count": 32,
      "metadata": {
        "id": "yJOISu8tILNC"
      },
      "outputs": [],
      "source": [
        "# 5 shot\n",
        "five_shot_train_index_HUST = [0, 10, 25, 30, 35] \n",
        "five_shot_train__X_HUST = X_train_HUST.iloc[five_shot_train_index_HUST]\n",
        "five_shot_train_Y_HUST = y_train_HUST.iloc[five_shot_train_index_HUST]\n",
        "\n",
        "five_shot_val_index_HUST = [15, 20, 40, 12, 54] \n",
        "five_shot_val__X_HUST = X_train_HUST.iloc[five_shot_val_index_HUST]\n",
        "five_shot_val_Y_HUST = y_train_HUST.iloc[five_shot_val_index_HUST]\n",
        "\n",
        "# 10 shot\n",
        "ten_shot_train_index_HUST =  [0, 8, 25, 30, 35, 15, 20, 40, 12, 54] \n",
        "ten_shot_train_X_HUST = X_train_HUST.iloc[ten_shot_train_index_HUST]\n",
        "ten_shot_train_Y_HUST = y_train_HUST.iloc[ten_shot_train_index_HUST]\n",
        "\n",
        "ten_shot_val_index_HUST =  [5, 10, 24, 31, 34, 16, 21, 41, 13, 53]\n",
        "ten_shot_val_X_HUST = X_train_HUST.iloc[ten_shot_val_index_HUST]\n",
        "ten_shot_val_Y_HUST = y_train_HUST.iloc[ten_shot_val_index_HUST]"
      ]
    },
    {
      "cell_type": "code",
      "execution_count": 33,
      "metadata": {
        "id": "YRML1GO1LKIB"
      },
      "outputs": [],
      "source": [
        "def get_dataset_for_task(task_name, battery_data = battery_data,  phase = \"train\", if_scale = False, dataset_id = \"dataset_id_new\", cycle_pairs=[(98, 8)]):\n",
        "    dataset = battery_data[battery_data[dataset_id] == task_name]\n",
        "    if phase == \"train\":\n",
        "        if task_name == \"MATR\":\n",
        "            dataset = dataset[\n",
        "                                (dataset[\"split\"] == \"train\")\n",
        "                                # | (dataset[\"split\"] == \"valid\")\n",
        "                                # | (dataset[\"split\"] == \"test1\")\n",
        "                            ]\n",
        "\n",
        "        # return dataset\n",
        "        x = get_x_data(dataset, cycle_pairs=cycle_pairs)\n",
        "        # print(dataset)\n",
        "        y = create_y(dataset)\n",
        "\n",
        "        return x, y\n",
        "\n",
        "    if phase == \"fine_tune\":\n",
        "\n",
        "        if task_name == \"MATR\":\n",
        "            dataset_train = dataset[\n",
        "                                (dataset[\"split\"] == \"train\") | (dataset[\"split\"] == \"test1\") | (dataset[\"split\"] == \"test2\")\n",
        "                            ]\n",
        "            dataset_test = dataset[\n",
        "                                (dataset[\"split\"] == \"test1\")\n",
        "                            ]\n",
        "        if task_name == \"HUST\":\n",
        "            dataset_train = dataset[\n",
        "                                (dataset[\"split\"] == \"train\") | (dataset[\"split\"] == \"test\")\n",
        "                            ]\n",
        "            dataset_test = dataset[\n",
        "                                (dataset[\"split\"] == \"test\")\n",
        "                            ]\n",
        "        if task_name == \"MIX\":\n",
        "            dataset_train = dataset[\n",
        "                                (dataset[\"split\"] == \"train\") | (dataset[\"split\"] == \"test\")\n",
        "                            ]\n",
        "            dataset_test = dataset[\n",
        "                                (dataset[\"split\"] == \"test\")\n",
        "                            ]\n",
        "        train_x = get_x_data(dataset_train, cycle_pairs=cycle_pairs)\n",
        "        train_y = create_y(dataset_train)\n",
        "\n",
        "        if dataset_test is not None:\n",
        "            test_x = get_x_data(dataset_test, cycle_pairs=cycle_pairs)\n",
        "            test_y = create_y(dataset_test)\n",
        "        else:\n",
        "            test_x = None\n",
        "            test_y = None\n",
        "        return train_x, train_y, test_x, test_y"
      ]
    },
    {
      "cell_type": "markdown",
      "metadata": {
        "id": "125DlJkRLKIB"
      },
      "source": [
        "HUST + MIX -> MATR"
      ]
    },
    {
      "cell_type": "code",
      "execution_count": 34,
      "metadata": {},
      "outputs": [],
      "source": [
        "# 10 shot\n",
        "X_train = np.vstack((X_train_HUST, X_train_MIX, ten_shot_train_X_MATR))\n",
        "y_train = np.vstack((y_train_HUST, y_train_MIX, ten_shot_train_Y_MATR))\n",
        "\n",
        "shot_X, shot_Y = ten_shot_val_X_MATR, ten_shot_val_Y_MATR\n",
        "test_X, test_Y = X_test_MATR, y_test_MATR"
      ]
    },
    {
      "cell_type": "code",
      "execution_count": 35,
      "metadata": {
        "colab": {
          "base_uri": "https://localhost:8080/"
        },
        "id": "vf7e6qIa-gTV",
        "outputId": "74aa8db5-e0f7-4fb2-ba2c-8fcdecd4dc4a"
      },
      "outputs": [],
      "source": [
        "# 5 shot\n",
        "X_train = np.vstack((X_train_HUST, X_train_MIX, five_shot_train_X_MATR))\n",
        "y_train = np.vstack((y_train_HUST, y_train_MIX, five_shot_train_Y_MATR))\n",
        "\n",
        "shot_X, shot_Y = five_shot_val_X_MATR, five_shot_val_Y_MATR\n",
        "test_X, test_Y = X_test_MATR, y_test_MATR"
      ]
    },
    {
      "cell_type": "markdown",
      "metadata": {
        "id": "lYnj17uKLKID"
      },
      "source": [
        "MATR + MIX -> HUST"
      ]
    },
    {
      "cell_type": "code",
      "execution_count": 36,
      "metadata": {
        "colab": {
          "base_uri": "https://localhost:8080/"
        },
        "id": "acvHDknmMWgB",
        "outputId": "40c2cd34-4452-4766-ad24-423826ade0c8"
      },
      "outputs": [],
      "source": [
        "# 10 shot\n",
        "X_train = np.vstack((X_train_MATR, X_train_MIX, ten_shot_train_X_HUST))\n",
        "y_train = np.vstack((y_train_MATR, y_train_MIX, ten_shot_train_Y_HUST))\n",
        "\n",
        "shot_X, shot_Y = ten_shot_val_X_HUST, ten_shot_val_Y_HUST\n",
        "test_X, test_Y = X_test_HUST, y_test_HUST"
      ]
    },
    {
      "cell_type": "code",
      "execution_count": 37,
      "metadata": {
        "colab": {
          "base_uri": "https://localhost:8080/"
        },
        "id": "QVZP3iCjMwB9",
        "outputId": "84b7a8ba-963a-4390-dc91-7f789a8b2bbb"
      },
      "outputs": [],
      "source": [
        "# 5 shot\n",
        "X_train = np.vstack((X_train_MATR, X_train_MIX, five_shot_train__X_HUST))\n",
        "y_train = np.vstack((y_train_MATR, y_train_MIX, five_shot_train_Y_HUST))\n",
        "\n",
        "shot_X, shot_Y = five_shot_val__X_HUST, five_shot_val_Y_HUST\n",
        "test_X, test_Y = X_test_HUST, y_test_HUST"
      ]
    },
    {
      "cell_type": "markdown",
      "metadata": {
        "id": "wtn0kW25LKIE"
      },
      "source": [
        "MATR + HUST -> MIX"
      ]
    },
    {
      "cell_type": "code",
      "execution_count": 38,
      "metadata": {
        "colab": {
          "background_save": true,
          "base_uri": "https://localhost:8080/"
        },
        "id": "oY74gw9QNCgM",
        "outputId": "65ced4ab-64d5-444e-ebfd-6d2b5de3b1ed"
      },
      "outputs": [],
      "source": [
        "# 10 shot\n",
        "X_train = np.vstack((X_train_HUST, X_train_MATR, ten_shot_train_X_MIX))\n",
        "y_train = np.vstack((y_train_HUST, y_train_MATR, ten_shot_train_Y_MIX))\n",
        "\n",
        "shot_X, shot_Y = ten_shot_val_X_MIX, ten_shot_val_Y_MIX\n",
        "test_X, test_Y = X_test_MIX, y_test_MIX"
      ]
    },
    {
      "cell_type": "code",
      "execution_count": 39,
      "metadata": {
        "colab": {
          "base_uri": "https://localhost:8080/"
        },
        "id": "dnDRkR1HLKIF",
        "outputId": "b4d1114f-be08-4eb4-8b3e-b19fa1ddc033"
      },
      "outputs": [],
      "source": [
        "# 5 shot\n",
        "X_train = np.vstack((X_train_HUST, X_train_MATR, five_shot_train_X_MIX))\n",
        "y_train = np.vstack((y_train_HUST, y_train_MATR, five_shot_train_Y_MIX))\n",
        "\n",
        "shot_X, shot_Y = five_shot_val_X_MIX, five_shot_val_Y_MIX\n",
        "test_X, test_Y = X_test_MIX, y_test_MIX"
      ]
    }
  ],
  "metadata": {
    "accelerator": "GPU",
    "colab": {
      "gpuType": "A100",
      "machine_shape": "hm",
      "provenance": []
    },
    "kernelspec": {
      "display_name": "Python 3",
      "name": "python3"
    },
    "language_info": {
      "codemirror_mode": {
        "name": "ipython",
        "version": 3
      },
      "file_extension": ".py",
      "mimetype": "text/x-python",
      "name": "python",
      "nbconvert_exporter": "python",
      "pygments_lexer": "ipython3",
      "version": "3.9.13"
    }
  },
  "nbformat": 4,
  "nbformat_minor": 0
}
